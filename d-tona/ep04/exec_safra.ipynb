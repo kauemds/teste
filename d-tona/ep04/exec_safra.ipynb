{
 "cells": [
  {
   "cell_type": "code",
   "execution_count": 1,
   "metadata": {},
   "outputs": [],
   "source": [
    "import os\n",
    "import sqlalchemy\n",
    "import argparse\n",
    "from datetime import datetime\n",
    "from dateutil.relativedelta import relativedelta"
   ]
  },
  {
   "cell_type": "code",
   "execution_count": 2,
   "metadata": {},
   "outputs": [
    {
     "data": {
      "text/plain": [
       "'c:\\\\Users\\\\kaue.mendes.FBIZ\\\\Desktop\\\\Estudos_Data_Science\\\\d-tona\\\\ep04'"
      ]
     },
     "execution_count": 2,
     "metadata": {},
     "output_type": "execute_result"
    }
   ],
   "source": [
    "# Pega o passo absoluto de um determinado caminho que será passado, no caso, file. Que é o caminho absoluto desse script pyton.\n",
    "EP_DIR = os.path.abspath('.')\n",
    "SRC_DIR = os.path.dirname( EP_DIR )\n",
    "BASE_DIR = os.path.dirname( SRC_DIR )\n",
    "DATA_DIR = os.path.join( SRC_DIR, 'data')\n",
    "EP_DIR"
   ]
  },
  {
   "cell_type": "code",
   "execution_count": 3,
   "metadata": {},
   "outputs": [
    {
     "data": {
      "text/plain": [
       "\"select '2017-05-01' as dt_ref,\\n    t2.seller_city,\\n    t2.seller_state,\\n    t1.*\\nfrom (\\n        select t2.seller_id,\\n            avg(t5.review_score) as avg_review_score,\\n            -- media do score de reviews\\n            t3.idade_base as idade_base_dias,\\n            -- dias desde a primeira venda\\n            1 + cast(t3.idade_base / 30 as integer) as idade_base_mes,\\n            -- meses desde a primeira venda\\n            cast(\\n                julianday('2017-05-01') - julianday(max(t1.order_approved_at)) as integer\\n            ) as qtde_dias_utl_venda,\\n            count(distinct strftime('%m', t1.order_approved_at)) as qtde_mes_ativacao,\\n            cast(\\n                count(distinct strftime('%m', t1.order_approved_at)) as float\\n            ) / min(1 + cast(t3.idade_base / 30 as integer), 6) as prop_ativacao,\\n            -- proporcao de meses em que vendedor vendeu\\n            sum(\\n                case\\n                    when julianday(t1.order_estimated_delivery_date) < julianday(t1.order_delivered_customer_date) then 1\\n                    else 0\\n                end\\n            ) / count(distinct t2.order_id) as prop_atraso,\\n            -- proporcao de pedidos em atraso\\n            cast(\\n                avg(\\n                    julianday(t1.order_estimated_delivery_date) - julianday(t1.order_purchase_timestamp)\\n                ) as integer\\n            ) as avg_tempo_entrega_est,\\n            -- tempo medio de entrega prevista\\n            sum(t2.price) as receita_total,\\n            sum(t2.price) / count(distinct t2.order_id) as avg_vl_venda,\\n            sum(t2.price) / min(1 + cast(t3.idade_base / 30 as integer), 6) as avg_vl_venda_mes,\\n            -- receita média por mes simples\\n            sum(t2.price) / count(distinct strftime('%m', t1.order_approved_at)) as avg_vl_venda_mes_ativado,\\n            -- receita média por mes em que vendedor ativa\\n            count(distinct t2.order_id) as qtde_vendas,\\n            count(t2.product_id) as qtde_produto,\\n            count(distinct t2.product_id) as qtde_produto_dst,\\n            sum(t2.price) / count(t2.product_id) as avg_vl_produto,\\n            count(t2.product_id) / count(distinct t2.order_id) as avg_qtde_produto_venda,\\n            -- media de produtos vendidos por venda\\n            -- Variáveis de volume de vendas por categoria de produto\\n            sum(\\n                case\\n                    when product_category_name = 'cama_mesa_banho' then 1\\n                    else 0\\n                end\\n            ) as qtde_cama_mesa_banho,\\n            sum(\\n                case\\n                    when product_category_name = 'beleza_saude' then 1\\n                    else 0\\n                end\\n            ) as qtde_beleza_saude,\\n            sum(\\n                case\\n                    when product_category_name = 'esporte_lazer' then 1\\n                    else 0\\n                end\\n            ) as qtde_esporte_lazer,\\n            sum(\\n                case\\n                    when product_category_name = 'moveis_decoracao' then 1\\n                    else 0\\n                end\\n            ) as qtde_moveis_decoracao,\\n            sum(\\n                case\\n                    when product_category_name = 'informatica_acessorios' then 1\\n                    else 0\\n                end\\n            ) as qtde_informatica_acessorios,\\n            sum(\\n                case\\n                    when product_category_name = 'utilidades_domesticas' then 1\\n                    else 0\\n                end\\n            ) as qtde_utilidades_domesticas,\\n            sum(\\n                case\\n                    when product_category_name = 'relogios_presentes' then 1\\n                    else 0\\n                end\\n            ) as qtde_relogios_presentes,\\n            sum(\\n                case\\n                    when product_category_name = 'telefonia' then 1\\n                    else 0\\n                end\\n            ) as qtde_telefonia,\\n            sum(\\n                case\\n                    when product_category_name = 'ferramentas_jardim' then 1\\n                    else 0\\n                end\\n            ) as qtde_ferramentas_jardim,\\n            sum(\\n                case\\n                    when product_category_name = 'automotivo' then 1\\n                    else 0\\n                end\\n            ) as qtde_automotivo,\\n            sum(\\n                case\\n                    when product_category_name = 'brinquedos' then 1\\n                    else 0\\n                end\\n            ) as qtde_brinquedos,\\n            sum(\\n                case\\n                    when product_category_name = 'cool_stuff' then 1\\n                    else 0\\n                end\\n            ) as qtde_cool_stuff,\\n            sum(\\n                case\\n                    when product_category_name = 'perfumaria' then 1\\n                    else 0\\n                end\\n            ) as qtde_perfumaria,\\n            sum(\\n                case\\n                    when product_category_name = 'bebes' then 1\\n                    else 0\\n                end\\n            ) as qtde_bebes,\\n            sum(\\n                case\\n                    when product_category_name = 'eletronicos' then 1\\n                    else 0\\n                end\\n            ) as qtde_eletronicos,\\n            sum(\\n                case\\n                    when product_category_name = 'papelaria' then 1\\n                    else 0\\n                end\\n            ) as qtde_papelaria,\\n            sum(\\n                case\\n                    when product_category_name = 'fashion_bolsas_e_acessorios' then 1\\n                    else 0\\n                end\\n            ) as qtde_fashion_bolsas_e_acessorios,\\n            sum(\\n                case\\n                    when product_category_name = 'pet_shop' then 1\\n                    else 0\\n                end\\n            ) as qtde_pet_shop,\\n            sum(\\n                case\\n                    when product_category_name = 'moveis_escritorio' then 1\\n                    else 0\\n                end\\n            ) as qtde_moveis_escritorio,\\n            sum(\\n                case\\n                    when product_category_name = 'consoles_games' then 1\\n                    else 0\\n                end\\n            ) as qtde_consoles_games,\\n            sum(\\n                case\\n                    when product_category_name = 'malas_acessorios' then 1\\n                    else 0\\n                end\\n            ) as qtde_malas_acessorios,\\n            sum(\\n                case\\n                    when product_category_name = 'construcao_ferramentas_construcao' then 1\\n                    else 0\\n                end\\n            ) as qtde_construcao_ferramentas_construcao,\\n            sum(\\n                case\\n                    when product_category_name = 'eletrodomesticos' then 1\\n                    else 0\\n                end\\n            ) as qtde_eletrodomesticos,\\n            sum(\\n                case\\n                    when product_category_name = 'instrumentos_musicais' then 1\\n                    else 0\\n                end\\n            ) as qtde_instrumentos_musicais,\\n            sum(\\n                case\\n                    when product_category_name = 'eletroportateis' then 1\\n                    else 0\\n                end\\n            ) as qtde_eletroportateis,\\n            sum(\\n                case\\n                    when product_category_name = 'casa_construcao' then 1\\n                    else 0\\n                end\\n            ) as qtde_casa_construcao,\\n            sum(\\n                case\\n                    when product_category_name = 'livros_interesse_geral' then 1\\n                    else 0\\n                end\\n            ) as qtde_livros_interesse_geral,\\n            sum(\\n                case\\n                    when product_category_name = 'alimentos' then 1\\n                    else 0\\n                end\\n            ) as qtde_alimentos,\\n            sum(\\n                case\\n                    when product_category_name = 'moveis_sala' then 1\\n                    else 0\\n                end\\n            ) as qtde_moveis_sala,\\n            sum(\\n                case\\n                    when product_category_name = 'casa_conforto' then 1\\n                    else 0\\n                end\\n            ) as qtde_casa_conforto,\\n            sum(\\n                case\\n                    when product_category_name = 'bebidas' then 1\\n                    else 0\\n                end\\n            ) as qtde_bebidas,\\n            sum(\\n                case\\n                    when product_category_name = 'audio' then 1\\n                    else 0\\n                end\\n            ) as qtde_audio,\\n            sum(\\n                case\\n                    when product_category_name = 'market_place' then 1\\n                    else 0\\n                end\\n            ) as qtde_market_place,\\n            sum(\\n                case\\n                    when product_category_name = 'construcao_ferramentas_iluminacao' then 1\\n                    else 0\\n                end\\n            ) as qtde_construcao_ferramentas_iluminacao,\\n            sum(\\n                case\\n                    when product_category_name = 'climatizacao' then 1\\n                    else 0\\n                end\\n            ) as qtde_climatizacao,\\n            sum(\\n                case\\n                    when product_category_name = 'moveis_cozinha_area_de_servico_jantar_e_jardim' then 1\\n                    else 0\\n                end\\n            ) as qtde_moveis_cozinha_area_de_servico_jantar_e_jardim,\\n            sum(\\n                case\\n                    when product_category_name = 'alimentos_bebidas' then 1\\n                    else 0\\n                end\\n            ) as qtde_alimentos_bebidas,\\n            sum(\\n                case\\n                    when product_category_name = 'industria_comercio_e_negocios' then 1\\n                    else 0\\n                end\\n            ) as qtde_industria_comercio_e_negocios,\\n            sum(\\n                case\\n                    when product_category_name = 'livros_tecnicos' then 1\\n                    else 0\\n                end\\n            ) as qtde_livros_tecnicos,\\n            sum(\\n                case\\n                    when product_category_name = 'telefonia_fixa' then 1\\n                    else 0\\n                end\\n            ) as qtde_telefonia_fixa,\\n            sum(\\n                case\\n                    when product_category_name = 'fashion_calcados' then 1\\n                    else 0\\n                end\\n            ) as qtde_fashion_calcados,\\n            sum(\\n                case\\n                    when product_category_name = 'eletrodomesticos_2' then 1\\n                    else 0\\n                end\\n            ) as qtde_eletrodomesticos_2,\\n            sum(\\n                case\\n                    when product_category_name = 'construcao_ferramentas_jardim' then 1\\n                    else 0\\n                end\\n            ) as qtde_construcao_ferramentas_jardim,\\n            sum(\\n                case\\n                    when product_category_name = 'agro_industria_e_comercio' then 1\\n                    else 0\\n                end\\n            ) as qtde_agro_industria_e_comercio,\\n            sum(\\n                case\\n                    when product_category_name = 'artes' then 1\\n                    else 0\\n                end\\n            ) as qtde_artes,\\n            sum(\\n                case\\n                    when product_category_name = 'pcs' then 1\\n                    else 0\\n                end\\n            ) as qtde_pcs,\\n            sum(\\n                case\\n                    when product_category_name = 'sinalizacao_e_seguranca' then 1\\n                    else 0\\n                end\\n            ) as qtde_sinalizacao_e_seguranca,\\n            sum(\\n                case\\n                    when product_category_name = 'construcao_ferramentas_seguranca' then 1\\n                    else 0\\n                end\\n            ) as qtde_construcao_ferramentas_seguranca,\\n            sum(\\n                case\\n                    when product_category_name = 'artigos_de_natal' then 1\\n                    else 0\\n                end\\n            ) as qtde_artigos_de_natal\\n        from tb_orders as t1\\n            left join tb_order_items as t2 on t1.order_id = t2.order_id\\n            left join(\\n                select t2.seller_id,\\n                    max(\\n                        julianday('2017-05-01') - julianday(t1.order_approved_at)\\n                    ) as idade_base\\n                from tb_orders as t1\\n                    left join tb_order_items as t2 on t1.order_id = t2.order_id\\n                where t1.order_approved_at < '2017-05-01'\\n                    and t1.order_status = 'delivered'\\n                group by t2.seller_id\\n            ) as t3 on t2.seller_id = t3.seller_id\\n            left join tb_products as t4 on t2.product_id = t4.product_id\\n            left join tb_order_reviews as t5 on t1.order_id = t5.order_id\\n        where t1.order_approved_at between date('2017-05-01', '-6 months') and '2017-05-01'\\n            and t1.order_status = 'delivered'\\n        group by t2.seller_id\\n    ) as t1\\n    left join tb_sellers as t2 on t1.seller_id = t2.seller_id\\norder by qtde_vendas desc;\""
      ]
     },
     "execution_count": 3,
     "metadata": {},
     "output_type": "execute_result"
    }
   ],
   "source": [
    "### Importar query\n",
    "# É criada a função import_query, para não precisar digitar todas as linhas abaixo para ler um arquivo, então é criada uma função para fazer essa leitura e retorna o resultado, que no caso é uma query\n",
    "\n",
    "def import_query( path, **kwards ) :\n",
    "    with open( path, 'r', **kwards ) as file_open:\n",
    "        result = file_open.read()\n",
    "    return result\n",
    "\n",
    "query = import_query(os.path.join(EP_DIR,'query_1_melhorada.sql' ) )\n",
    "query = query.format( date= '2017-05-01')\n",
    "query"
   ]
  },
  {
   "cell_type": "code",
   "execution_count": 14,
   "metadata": {},
   "outputs": [
    {
     "ename": "AttributeError",
     "evalue": "'Engine' object has no attribute 'table_names'",
     "output_type": "error",
     "traceback": [
      "\u001b[1;31m---------------------------------------------------------------------------\u001b[0m",
      "\u001b[1;31mAttributeError\u001b[0m                            Traceback (most recent call last)",
      "Cell \u001b[1;32mIn[14], line 10\u001b[0m\n\u001b[0;32m      7\u001b[0m query \u001b[39m=\u001b[39m query\u001b[39m.\u001b[39mformat( date\u001b[39m=\u001b[39m \u001b[39m'\u001b[39m\u001b[39m2017-04-01\u001b[39m\u001b[39m'\u001b[39m)\n\u001b[0;32m      9\u001b[0m con \u001b[39m=\u001b[39m connect_db()\n\u001b[1;32m---> 10\u001b[0m con\u001b[39m.\u001b[39;49mtable_names\n\u001b[0;32m     12\u001b[0m \u001b[39m#print(\"tentando deletar...\")\u001b[39;00m\n\u001b[0;32m     13\u001b[0m \u001b[39m#con.execute:('delete from tb_book_sellers where dt_ref= {date}'.format(date='2017-04-01'))\u001b[39;00m\n\u001b[0;32m     15\u001b[0m \u001b[39mtry\u001b[39;00m:\n",
      "\u001b[1;31mAttributeError\u001b[0m: 'Engine' object has no attribute 'table_names'"
     ]
    }
   ],
   "source": [
    "# Conectando com o Banco de Dados\n",
    "\n",
    "def connect_db():\n",
    "    return sqlalchemy.create_engine(r\"sqlite:///C:\\Users\\kaue.mendes.FBIZ\\Desktop\\Estudos_Data_Science\\d-tona\\data\")                                    \n",
    "\n",
    "query = import_query(os.path.join(EP_DIR,'query_1_melhorada.sql' ) )\n",
    "query = query.format( date= '2017-04-01')\n",
    "\n",
    "con = connect_db()\n",
    "\n",
    "#print(\"tentando deletar...\")\n",
    "#con.execute:('delete from tb_book_sellers where dt_ref= {date}'.format(date='2017-04-01'))\n",
    "\n",
    "try:\n",
    "    base_query = 'create table tb_book_sellers as\\n {query}'\n",
    "    con.execute:( base_query.format(query = query))\n",
    "\n",
    "except:\n",
    "    base_query = 'insert into tb_book_sellers as\\n {query}'\n",
    "    con.execute:( base_query.format(query = query))\n",
    "\n",
    "con\n",
    "\n"
   ]
  },
  {
   "cell_type": "code",
   "execution_count": 5,
   "metadata": {},
   "outputs": [],
   "source": [
    "# Conectando com o Banco de Dados\n",
    "def connect_db():\n",
    "    return sqlalchemy.create_engine(\"sqlite:///\" + os.path.join( EP_DIR, 'olist.db') )\n",
    "\n",
    "query = import_query(os.path.join(EP_DIR,'query_1_melhorada.sql' ) )\n",
    "query = query.format( date= '2017-05-01')\n",
    "\n",
    "con = connect_db()\n",
    "\n",
    "# Criando a base, inserindo dado e deletando contato caso já exista o dt_ref( é a data da safra) inserido anteriormente\n",
    "try:\n",
    "    con.execute:( 'delete from tb_book_sellers where dt_ref = {date}'.format(date='2017-04-01') )\n",
    "except:\n",
    "    print('nada a ser deletado')\n",
    "\n",
    "try:\n",
    "    base_query = 'create table tb_book_sellers as\\n {query}'\n",
    "    con.execute:( base_query.format(query = query))\n",
    "\n",
    "except:\n",
    "    base_query = 'insert into tb_book_sellers as\\n {query}'\n",
    "    con.execute:( base_query.format(query = query))\n"
   ]
  }
 ],
 "metadata": {
  "kernelspec": {
   "display_name": "olist-env",
   "language": "python",
   "name": "python3"
  },
  "language_info": {
   "codemirror_mode": {
    "name": "ipython",
    "version": 3
   },
   "file_extension": ".py",
   "mimetype": "text/x-python",
   "name": "python",
   "nbconvert_exporter": "python",
   "pygments_lexer": "ipython3",
   "version": "3.11.3"
  },
  "orig_nbformat": 4
 },
 "nbformat": 4,
 "nbformat_minor": 2
}
